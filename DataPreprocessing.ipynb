{
 "cells": [
  {
   "cell_type": "code",
   "execution_count": 1,
   "metadata": {},
   "outputs": [],
   "source": [
    "import pandas as pd\n",
    "from tqdm import tqdm_notebook as tqdm"
   ]
  },
  {
   "cell_type": "code",
   "execution_count": 2,
   "metadata": {},
   "outputs": [],
   "source": [
    "firedata = pd.read_pickle('closeststations.pkl')\n",
    "weatherdata = pd.read_pickle('weatherdata.pkl')"
   ]
  },
  {
   "cell_type": "code",
   "execution_count": 3,
   "metadata": {},
   "outputs": [
    {
     "data": {
      "application/vnd.jupyter.widget-view+json": {
       "model_id": "47ff09b9e95d40fd879199ae8eee755f",
       "version_major": 2,
       "version_minor": 0
      },
      "text/plain": [
       "HBox(children=(IntProgress(value=0, max=1180842), HTML(value='')))"
      ]
     },
     "metadata": {},
     "output_type": "display_data"
    },
    {
     "name": "stdout",
     "output_type": "stream",
     "text": [
      "\n"
     ]
    }
   ],
   "source": [
    "Year = []\n",
    "DOY = []\n",
    "for i in tqdm(range(len(weatherdata))):\n",
    "    date = pd.to_datetime(str(weatherdata['Date'][i]), format='%m/%d/%Y')\n",
    "    new_year_day = pd.Timestamp(year=date.year, month=1, day=1)\n",
    "    day_of_the_year = (date - new_year_day).days + 1\n",
    "    Year.append(weatherdata['Date'][i][-4:])\n",
    "    DOY.append(day_of_the_year)"
   ]
  },
  {
   "cell_type": "code",
   "execution_count": 4,
   "metadata": {},
   "outputs": [],
   "source": [
    "weatherdata['Year'] = Year\n",
    "weatherdata['DOY'] = DOY"
   ]
  },
  {
   "cell_type": "code",
   "execution_count": 5,
   "metadata": {},
   "outputs": [],
   "source": [
    "weatherdata.to_pickle(\"./weatherdata.pkl\")"
   ]
  },
  {
   "cell_type": "code",
   "execution_count": 18,
   "metadata": {},
   "outputs": [],
   "source": [
    "finaldf = firedata.merge(weatherdata, how='inner', right_on=['Year', 'DOY', 'Station Id'], left_on=['FIRE_YEAR', 'DISCOVERY_DOY','Closest_stations'])"
   ]
  },
  {
   "cell_type": "code",
   "execution_count": 21,
   "metadata": {},
   "outputs": [],
   "source": [
    "finaldf.to_pickle('./final.pkl')"
   ]
  }
 ],
 "metadata": {
  "kernelspec": {
   "display_name": "Python 3",
   "language": "python",
   "name": "python3"
  },
  "language_info": {
   "codemirror_mode": {
    "name": "ipython",
    "version": 3
   },
   "file_extension": ".py",
   "mimetype": "text/x-python",
   "name": "python",
   "nbconvert_exporter": "python",
   "pygments_lexer": "ipython3",
   "version": "3.7.3"
  }
 },
 "nbformat": 4,
 "nbformat_minor": 2
}
