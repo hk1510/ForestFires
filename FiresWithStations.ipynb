{
 "cells": [
  {
   "cell_type": "code",
   "execution_count": 1,
   "metadata": {},
   "outputs": [],
   "source": [
    "import pandas as pd\n",
    "import matplotlib.pyplot as plt\n",
    "from geopy.geocoders import ArcGIS\n",
    "import time\n",
    "from datetime import datetime\n",
    "from tqdm import tqdm\n",
    "import numpy as np"
   ]
  },
  {
   "cell_type": "code",
   "execution_count": 2,
   "metadata": {},
   "outputs": [
    {
     "name": "stderr",
     "output_type": "stream",
     "text": [
      "C:\\Users\\hkthe\\AppData\\Local\\Continuum\\anaconda3\\lib\\site-packages\\IPython\\core\\interactiveshell.py:3057: DtypeWarning: Columns (8,10,11,12,13,14,15,16,17,18,35,37) have mixed types. Specify dtype option on import or set low_memory=False.\n",
      "  interactivity=interactivity, compiler=compiler, result=result)\n"
     ]
    }
   ],
   "source": [
    "df = pd.read_csv('forestfires.csv')"
   ]
  },
  {
   "cell_type": "code",
   "execution_count": 3,
   "metadata": {},
   "outputs": [
    {
     "data": {
      "text/plain": [
       "<matplotlib.collections.PathCollection at 0x24872842b38>"
      ]
     },
     "execution_count": 3,
     "metadata": {},
     "output_type": "execute_result"
    },
    {
     "data": {
      "image/png": "[encoded data removed]",
      "text/plain": [
       "<Figure size 432x288 with 1 Axes>"
      ]
     },
     "metadata": {
      "needs_background": "light"
     },
     "output_type": "display_data"
    }
   ],
   "source": [
    "plt.scatter(df[\"LONGITUDE\"], df[\"LATITUDE\"])"
   ]
  },
  {
   "cell_type": "code",
   "execution_count": 4,
   "metadata": {},
   "outputs": [],
   "source": [
    "df = df[df['STATE'] == 'CA']"
   ]
  },
  {
   "cell_type": "code",
   "execution_count": 5,
   "metadata": {},
   "outputs": [
    {
     "data": {
      "text/plain": [
       "<matplotlib.collections.PathCollection at 0x24847419c18>"
      ]
     },
     "execution_count": 5,
     "metadata": {},
     "output_type": "execute_result"
    },
    {
     "data": {
      "image/png": "[encoded data removed]",
      "text/plain": [
       "<Figure size 432x288 with 1 Axes>"
      ]
     },
     "metadata": {
      "needs_background": "light"
     },
     "output_type": "display_data"
    }
   ],
   "source": [
    "df = df[[\"FIRE_YEAR\", \"DISCOVERY_DOY\", \"DISCOVERY_TIME\", \"STAT_CAUSE_CODE\", \"STAT_CAUSE_DESCR\", \"CONT_DOY\", \"CONT_TIME\", \"FIRE_SIZE\", \"FIRE_SIZE_CLASS\", \"LATITUDE\", \"LONGITUDE\", \"STATE\", \"COUNTY\"]]\n",
    "len(df)\n",
    "plt.scatter(df[\"LONGITUDE\"], df[\"LATITUDE\"])"
   ]
  },
  {
   "cell_type": "code",
   "execution_count": 6,
   "metadata": {},
   "outputs": [],
   "source": [
    "stationdf = pd.read_excel('CIMIS Stations List (April18).xlsx')\n",
    "stationdf.dropna(inplace=True)"
   ]
  },
  {
   "cell_type": "code",
   "execution_count": 7,
   "metadata": {},
   "outputs": [
    {
     "name": "stderr",
     "output_type": "stream",
     "text": [
      "  0%|                                                                                          | 0/255 [00:00<?, ?it/s]C:\\Users\\hkthe\\AppData\\Local\\Continuum\\anaconda3\\lib\\site-packages\\ipykernel_launcher.py:6: SettingWithCopyWarning: \n",
      "A value is trying to be set on a copy of a slice from a DataFrame\n",
      "\n",
      "See the caveats in the documentation: http://pandas.pydata.org/pandas-docs/stable/indexing.html#indexing-view-versus-copy\n",
      "  \n",
      "C:\\Users\\hkthe\\AppData\\Local\\Continuum\\anaconda3\\lib\\site-packages\\ipykernel_launcher.py:4: SettingWithCopyWarning: \n",
      "A value is trying to be set on a copy of a slice from a DataFrame\n",
      "\n",
      "See the caveats in the documentation: http://pandas.pydata.org/pandas-docs/stable/indexing.html#indexing-view-versus-copy\n",
      "  after removing the cwd from sys.path.\n",
      "100%|████████████████████████████████████████████████████████████████████████████████| 255/255 [00:05<00:00, 49.65it/s]\n",
      "  0%|                                                                                          | 0/255 [00:00<?, ?it/s]C:\\Users\\hkthe\\AppData\\Local\\Continuum\\anaconda3\\lib\\site-packages\\ipykernel_launcher.py:10: SettingWithCopyWarning: \n",
      "A value is trying to be set on a copy of a slice from a DataFrame\n",
      "\n",
      "See the caveats in the documentation: http://pandas.pydata.org/pandas-docs/stable/indexing.html#indexing-view-versus-copy\n",
      "  # Remove the CWD from sys.path while we load stuff.\n",
      "C:\\Users\\hkthe\\AppData\\Local\\Continuum\\anaconda3\\lib\\site-packages\\pandas\\core\\indexing.py:190: SettingWithCopyWarning: \n",
      "A value is trying to be set on a copy of a slice from a DataFrame\n",
      "\n",
      "See the caveats in the documentation: http://pandas.pydata.org/pandas-docs/stable/indexing.html#indexing-view-versus-copy\n",
      "  self._setitem_with_indexer(indexer, value)\n",
      "100%|████████████████████████████████████████████████████████████████████████████████| 255/255 [00:05<00:00, 49.30it/s]\n"
     ]
    }
   ],
   "source": [
    "stationdf['Disconnect_Year'] = stationdf['Disconnect']\n",
    "for i in tqdm(range(len(stationdf['Disconnect_Year']))):\n",
    "    if (stationdf['Disconnect'][i] == \"Active\"):\n",
    "        stationdf['Disconnect_Year'][i] = 2021\n",
    "    else:\n",
    "        stationdf['Disconnect_Year'][i] = int(str(stationdf['Disconnect'][i])[:4])\n",
    "\n",
    "stationdf['Connect_Year'] = stationdf['Connect']\n",
    "for i in tqdm(range(len(stationdf['Connect_Year']))):\n",
    "    stationdf['Connect_Year'][i] = int(str(stationdf['Connect'][i])[:4])"
   ]
  },
  {
   "cell_type": "code",
   "execution_count": 8,
   "metadata": {},
   "outputs": [
    {
     "name": "stderr",
     "output_type": "stream",
     "text": [
      "  0%|                                                                                          | 0/255 [00:00<?, ?it/s]C:\\Users\\hkthe\\AppData\\Local\\Continuum\\anaconda3\\lib\\site-packages\\ipykernel_launcher.py:6: SettingWithCopyWarning: \n",
      "A value is trying to be set on a copy of a slice from a DataFrame\n",
      "\n",
      "See the caveats in the documentation: http://pandas.pydata.org/pandas-docs/stable/indexing.html#indexing-view-versus-copy\n",
      "  \n",
      "C:\\Users\\hkthe\\AppData\\Local\\Continuum\\anaconda3\\lib\\site-packages\\ipykernel_launcher.py:4: SettingWithCopyWarning: \n",
      "A value is trying to be set on a copy of a slice from a DataFrame\n",
      "\n",
      "See the caveats in the documentation: http://pandas.pydata.org/pandas-docs/stable/indexing.html#indexing-view-versus-copy\n",
      "  after removing the cwd from sys.path.\n",
      "100%|████████████████████████████████████████████████████████████████████████████████| 255/255 [00:05<00:00, 49.59it/s]\n",
      "  0%|                                                                                          | 0/255 [00:00<?, ?it/s]C:\\Users\\hkthe\\AppData\\Local\\Continuum\\anaconda3\\lib\\site-packages\\ipykernel_launcher.py:10: SettingWithCopyWarning: \n",
      "A value is trying to be set on a copy of a slice from a DataFrame\n",
      "\n",
      "See the caveats in the documentation: http://pandas.pydata.org/pandas-docs/stable/indexing.html#indexing-view-versus-copy\n",
      "  # Remove the CWD from sys.path while we load stuff.\n",
      "100%|████████████████████████████████████████████████████████████████████████████████| 255/255 [00:05<00:00, 49.96it/s]\n"
     ]
    }
   ],
   "source": [
    "stationdf['Disconnect_doy'] = np.zeros(len(stationdf['Disconnect']))\n",
    "for i in tqdm(range(len(stationdf['Disconnect']))):\n",
    "    if(stationdf['Disconnect'][i] == 'Active'):\n",
    "        stationdf['Disconnect_doy'][i] = 0\n",
    "    else:\n",
    "        stationdf['Disconnect_doy'][i] = stationdf['Disconnect'][i].timetuple().tm_yday\n",
    "        \n",
    "stationdf['Connect_doy'] = np.zeros(len(stationdf['Connect']))\n",
    "for i in tqdm(range(len(stationdf['Connect']))):\n",
    "    stationdf['Connect_doy'][i] = datetime.strptime(str(stationdf['Connect'][i]), '%Y-%m-%d %H:%M:%S').timetuple().tm_yday"
   ]
  },
  {
   "cell_type": "code",
   "execution_count": 26,
   "metadata": {},
   "outputs": [
    {
     "name": "stderr",
     "output_type": "stream",
     "text": [
      "100%|█████████████████████████████████████████████████████████████████████| 1880465/1880465 [1:01:38<00:00, 508.49it/s]\n"
     ]
    }
   ],
   "source": [
    "def closest(firedf, stationdf):\n",
    "    closeststations = []\n",
    "    for i in tqdm(range(1880465)):\n",
    "        distances = []\n",
    "        try:\n",
    "            for j in range(len(stationdf)):\n",
    "                if (int(firedf['FIRE_YEAR'][i]) > int(stationdf['Disconnect_Year'][j])):\n",
    "                    distances.append(1000000000.0)\n",
    "                elif (int(firedf['FIRE_YEAR'][i]) < int(stationdf['Connect_Year'][j])):\n",
    "                    distances.append(1000000000.0)\n",
    "                elif (int(firedf['FIRE_YEAR'][i]) == int(stationdf['Disconnect_Year'][j])):\n",
    "                    if (int(firedf['DISCOVERY_DOY'][i]) >= int(stationdf['Disconnect_doy'][j])):\n",
    "                        distances.append(1000000000.0)\n",
    "                elif (int(firedf['FIRE_YEAR'][i]) == int(stationdf['Connect_Year'][j])):\n",
    "                    if (int(firedf['DISCOVERY_DOY'][i]) <= int(stationdf['Connect_doy'][j])):\n",
    "                        distances.append(1000000000.0)\n",
    "                else:\n",
    "                    distances.append(np.sqrt(((firedf['LATITUDE'][i] - stationdf['Latitude'][j])**2)+((firedf['LONGITUDE'][i] - stationdf['Longitude'][j])**2)))\n",
    "        except:\n",
    "            continue\n",
    "        closeststations.append(distances.index(min(distances)) + 1)\n",
    "    return closeststations\n",
    "closeststations = closest(df, stationdf)"
   ]
  },
  {
   "cell_type": "code",
   "execution_count": 30,
   "metadata": {},
   "outputs": [],
   "source": [
    "df['Closest_stations'] = closeststations\n",
    "index = []\n",
    "for i in range(len(df)):\n",
    "    index.append(i)\n",
    "df['index'] = index\n",
    "df = df.set_index('index')"
   ]
  },
  {
   "cell_type": "code",
   "execution_count": 31,
   "metadata": {},
   "outputs": [],
   "source": [
    "df.to_pickle(\"./closeststations.pkl\")"
   ]
  }
 ],
 "metadata": {
  "kernelspec": {
   "display_name": "Python 3",
   "language": "python",
   "name": "python3"
  },
  "language_info": {
   "codemirror_mode": {
    "name": "ipython",
    "version": 3
   },
   "file_extension": ".py",
   "mimetype": "text/x-python",
   "name": "python",
   "nbconvert_exporter": "python",
   "pygments_lexer": "ipython3",
   "version": "3.7.3"
  }
 },
 "nbformat": 4,
 "nbformat_minor": 2
}
