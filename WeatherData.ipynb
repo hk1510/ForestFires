{
 "cells": [
  {
   "cell_type": "code",
   "execution_count": 1,
   "metadata": {},
   "outputs": [],
   "source": [
    "import pandas as pd\n",
    "from tqdm import tqdm"
   ]
  },
  {
   "cell_type": "code",
   "execution_count": 19,
   "metadata": {},
   "outputs": [
    {
     "name": "stderr",
     "output_type": "stream",
     "text": [
      "100%|█████████████████████████████████████████████████████████████████████████████████| 22/22 [29:12<00:00, 167.12s/it]\n"
     ]
    }
   ],
   "source": [
    "header = ['Station Id','Date','Julian Date','QC for Solar Radiation Average','Solar Radiation Average'\n",
    "         ,'QC for Average Soil Temperature','Average Soil Temperature','QC for Maximum Air Temperature'\n",
    "         ,'Maximum Air Temperature','QC for Minimum Air Temperature','Minimum Air Temperature'\n",
    "         ,'QC for Average Air Temperature','Average Air Temperature','QC for Average Vapor Pressure'\n",
    "         ,'Average Vapor Pressure','QC for Average Wind Speed','Average Wind Speed','QC for Precipitation'\n",
    "         ,'Precipitation','QC for Maximum Relative Humidity','Maximum Relative Humidity','QC for Minimum Relative Humidity'\n",
    "         ,'Minimum Relative Humidity','QC for Reference ETo','Reference ETo','QC for Average Relative Humidity'\n",
    "         ,'Average Relative Humidity','QC for Dew Point','Dew Point','QC for Wind Run','Wind Run']\n",
    "df = pd.read_csv('1992/1992daily2.csv', names=header)\n",
    "for i in tqdm(range(1992,2014)):\n",
    "    if(i == 1992):\n",
    "        for j in range(3, 260):\n",
    "            try:\n",
    "                df = df.append(pd.read_csv(str(i)+'/'+str(i)+'daily'+str(j)+'.csv', names=header))\n",
    "            except:\n",
    "                continue\n",
    "    else:\n",
    "        for j in range(1, 260):\n",
    "            try:\n",
    "                df = df.append(pd.read_csv(str(i)+'/'+str(i)+'daily'+str(j)+'.csv', names=header))\n",
    "            except:\n",
    "                continue"
   ]
  },
  {
   "cell_type": "code",
   "execution_count": 31,
   "metadata": {},
   "outputs": [
    {
     "name": "stderr",
     "output_type": "stream",
     "text": [
      "100%|████████████████████████████████████████████████████████████████████████████████████| 4/4 [02:26<00:00, 36.79s/it]\n"
     ]
    }
   ],
   "source": [
    "header = ['Station Id','Date','Julian Date','Reference ETo','QC for Reference ETo'\n",
    "         ,'Precipitation','QC for Precipitation','Solar Radiation Average'\n",
    "         ,'QC for Solar Radiation Average','Average Vapor Pressure','QC for Average Vapor Pressure'\n",
    "         ,'Maximum Air Temperature','QC for Maximum Air Temperature','Minimum Air Temperature'\n",
    "         ,'QC for Minimum Air Temperature','Average Air Temperature','QC for Average Air Temperature','Maximum Relative Humidity'\n",
    "         ,'QC for Maximum Relative Humidity','Minimum Relative Humidity','QC for Minimum Relative Humidity','Average Relative Humidity'\n",
    "         ,'QC for Average Relative Humidity','Dew Point','QC for Dew Point','Average Wind Speed'\n",
    "         ,'QC for Average Wind Speed','Wind Run','QC for Wind Run','Average Soil Temperature','QC for Average Soil Temperature']\n",
    "df_new = pd.read_csv('2014/2014daily2.csv', names=header)\n",
    "for i in tqdm(range(2014,2018)):\n",
    "    if(i == 2014):\n",
    "        for j in range(3, 260):\n",
    "            try:\n",
    "                df_new = df_new.append(pd.read_csv(str(i)+'/'+str(i)+'daily'+str(j)+'.csv', names=header))\n",
    "            except:\n",
    "                continue\n",
    "    if(i == 2016):\n",
    "        for j in range(1, 260):\n",
    "            try:\n",
    "                df_new = df_new.append(pd.read_csv(str(i)+'/'+'daily'+str(j)+'.csv', names=header))\n",
    "            except:\n",
    "                continue\n",
    "    else:\n",
    "        for j in range(1, 260):\n",
    "            try:\n",
    "                df_new = df_new.append(pd.read_csv(str(i)+'/'+str(i)+'daily'+str(j)+'.csv', names=header))\n",
    "            except:\n",
    "                continue"
   ]
  },
  {
   "cell_type": "code",
   "execution_count": 33,
   "metadata": {},
   "outputs": [],
   "source": [
    "df_new_f = df_new[['Station Id','Date','Julian Date','QC for Solar Radiation Average','Solar Radiation Average'\n",
    "         ,'QC for Average Soil Temperature','Average Soil Temperature','QC for Maximum Air Temperature'\n",
    "         ,'Maximum Air Temperature','QC for Minimum Air Temperature','Minimum Air Temperature'\n",
    "         ,'QC for Average Air Temperature','Average Air Temperature','QC for Average Vapor Pressure'\n",
    "         ,'Average Vapor Pressure','QC for Average Wind Speed','Average Wind Speed','QC for Precipitation'\n",
    "         ,'Precipitation','QC for Maximum Relative Humidity','Maximum Relative Humidity','QC for Minimum Relative Humidity'\n",
    "         ,'Minimum Relative Humidity','QC for Reference ETo','Reference ETo','QC for Average Relative Humidity'\n",
    "         ,'Average Relative Humidity','QC for Dew Point','Dew Point','QC for Wind Run','Wind Run']]"
   ]
  },
  {
   "cell_type": "code",
   "execution_count": 35,
   "metadata": {},
   "outputs": [],
   "source": [
    "df = df.append(df_new_f)"
   ]
  },
  {
   "cell_type": "code",
   "execution_count": 45,
   "metadata": {},
   "outputs": [],
   "source": [
    "index = range(0, len(df))\n",
    "df['index'] = index\n",
    "df = df.set_index('index')"
   ]
  },
  {
   "cell_type": "code",
   "execution_count": 46,
   "metadata": {},
   "outputs": [],
   "source": [
    "df.to_pickle(\"./weatherdata.pkl\")"
   ]
  }
 ],
 "metadata": {
  "kernelspec": {
   "display_name": "Python 3",
   "language": "python",
   "name": "python3"
  },
  "language_info": {
   "codemirror_mode": {
    "name": "ipython",
    "version": 3
   },
   "file_extension": ".py",
   "mimetype": "text/x-python",
   "name": "python",
   "nbconvert_exporter": "python",
   "pygments_lexer": "ipython3",
   "version": "3.7.3"
  }
 },
 "nbformat": 4,
 "nbformat_minor": 2
}
