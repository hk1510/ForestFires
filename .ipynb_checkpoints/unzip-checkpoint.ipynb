{
 "cells": [
  {
   "cell_type": "code",
   "execution_count": 12,
   "metadata": {},
   "outputs": [],
   "source": [
    "import zipfile\n",
    "import os\n",
    "from tqdm import tqdm"
   ]
  },
  {
   "cell_type": "code",
   "execution_count": 9,
   "metadata": {},
   "outputs": [
    {
     "name": "stderr",
     "output_type": "stream",
     "text": [
      "100%|██████████████████████████████████████████████████████████████████████████████████| 37/37 [00:04<00:00,  5.86it/s]\n"
     ]
    }
   ],
   "source": [
    "for i in tqdm(range(1982, 2019)):\n",
    "    with zipfile.ZipFile('annual/dailyStns' + str(i) + '.zip', 'r') as zip_ref:\n",
    "        zip_ref.extractall('annual/' + str(i))"
   ]
  },
  {
   "cell_type": "code",
   "execution_count": 50,
   "metadata": {},
   "outputs": [
    {
     "name": "stdout",
     "output_type": "stream",
     "text": [
      "[WinError 2] The system cannot find the file specified: 'annual'\n",
      "C:\\Users\\hkthe\\Documents\\GitHub\\ForestFires\\annual\n"
     ]
    },
    {
     "name": "stderr",
     "output_type": "stream",
     "text": [
      "100%|██████████████████████████████████████████████████████████████████████████████████| 37/37 [00:01<00:00, 15.63it/s]\n"
     ]
    }
   ],
   "source": [
    "%cd annual\n",
    "path = 'C:\\\\Users\\\\hkthe\\\\Documents\\\\GitHub\\\\ForestFires\\\\annual'\n",
    "for i in tqdm(range(1982, 2019)):\n",
    "    if(i == 2016):\n",
    "        for filename in os.listdir(str(i)):\n",
    "            number = str(int(filename[5:8]))\n",
    "            src = os.path.join(path, str(i), filename)\n",
    "            dst = os.path.join(path, str(i), filename[:5] + number + '.csv')\n",
    "            os.rename(src, dst)\n",
    "    else:\n",
    "        for filename in os.listdir(str(i)):\n",
    "            number = str(int(filename[9:12]))\n",
    "            src = os.path.join(path, str(i), filename)\n",
    "            dst = os.path.join(path, str(i), filename[:9] + number + '.csv')\n",
    "            os.rename(src, dst)\n",
    "    "
   ]
  }
 ],
 "metadata": {
  "kernelspec": {
   "display_name": "Python 3",
   "language": "python",
   "name": "python3"
  },
  "language_info": {
   "codemirror_mode": {
    "name": "ipython",
    "version": 3
   },
   "file_extension": ".py",
   "mimetype": "text/x-python",
   "name": "python",
   "nbconvert_exporter": "python",
   "pygments_lexer": "ipython3",
   "version": "3.7.3"
  }
 },
 "nbformat": 4,
 "nbformat_minor": 2
}
